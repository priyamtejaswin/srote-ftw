{
 "cells": [
  {
   "cell_type": "code",
   "execution_count": 1,
   "metadata": {},
   "outputs": [
    {
     "name": "stdout",
     "output_type": "stream",
     "text": [
      "# Super Resolution, On The Edge, For The Win!\r\n",
      "*by Akshay Chawla and Priyam Tejaswin*\r\n",
      "\r\n",
      "Main reference paper : [Real-Time Video Super-Resolution with Spatio-Temporal Networks and Motion Compensation, CVPR 2017](http://openaccess.thecvf.com/content_cvpr_2017/papers/Caballero_Real-Time_Video_Super-Resolution_CVPR_2017_paper.pdf)\r\n",
      "```\r\n",
      ".\r\n",
      "├── README.md\r\n",
      "├── papers ## PDFs for review and reference (not committed).\r\n",
      "├── src_tensorflow ## Code in tf (using `tensorflow.keras`). \r\n",
      "└── src_tf2 ## Code in tf2_alpha.\r\n",
      "```\r\n",
      "\r\n",
      "## Dependencies\r\n",
      "- `src_tensorflow` uses **tensorflow 1.13.1**. This is the latest stable release as of creating this repository.\r\n",
      "- `src_tf2` uses **tensorflow 2.0** which is still an alpha build.\r\n",
      "\r\n",
      "## System Design\r\n",
      "![](system_blocks.jpg)\r\n",
      "\r\n",
      "## References\r\n",
      "- VESPCN implementation (unofficial, TF) - <https://github.com/LoSealL/VideoSuperResolution/blob/master/VSR/Models/Vespcn.py>\r\n",
      "- Fully-featured TF2 implementation of YOLOv3 (for checking TF2 oddities) - <https://github.com/zzh8829/yolov3-tf2>"
     ]
    }
   ],
   "source": [
    "!cat ../README.md"
   ]
  },
  {
   "cell_type": "code",
   "execution_count": 2,
   "metadata": {},
   "outputs": [],
   "source": [
    "import tensorflow as tf"
   ]
  },
  {
   "cell_type": "code",
   "execution_count": 3,
   "metadata": {},
   "outputs": [
    {
     "name": "stdout",
     "output_type": "stream",
     "text": [
      "True\n"
     ]
    }
   ],
   "source": [
    "tf.enable_eager_execution()\n",
    "print tf.executing_eagerly()"
   ]
  },
  {
   "cell_type": "code",
   "execution_count": 85,
   "metadata": {},
   "outputs": [],
   "source": [
    "dataset = tf.data.TextLineDataset(\"../README.md\")\n",
    "dataset = dataset.map(lambda line: tf.string_split([line]).values)\n",
    "dataset = dataset.filter(lambda row: tf.size(row) > 3)\n",
    "dataset = dataset.map(lambda row: tf.slice(row, [0], [2]))\n",
    "dataset = dataset.window(size=3, shift=1, drop_remainder=True) ## THIS WILL RETURN A DATASET!!!!\n",
    "dataset = dataset.flat_map(lambda dset: dset.batch(3))\n",
    "## How to shuffle?"
   ]
  },
  {
   "cell_type": "code",
   "execution_count": 89,
   "metadata": {},
   "outputs": [],
   "source": [
    "dataset.shuffle?"
   ]
  },
  {
   "cell_type": "code",
   "execution_count": 86,
   "metadata": {
    "scrolled": false
   },
   "outputs": [
    {
     "name": "stdout",
     "output_type": "stream",
     "text": [
      "0 tf.Tensor(\n",
      "[['#' 'Super']\n",
      " ['*by' 'Akshay']\n",
      " ['Main' 'reference']], shape=(3, 2), dtype=string)\n",
      "0 tf.Tensor(\n",
      "[['*by' 'Akshay']\n",
      " ['Main' 'reference']\n",
      " ['\\xe2\\x94\\x9c\\xe2\\x94\\x80\\xe2\\x94\\x80' 'papers']], shape=(3, 2), dtype=string)\n",
      "0 tf.Tensor(\n",
      "[['Main' 'reference']\n",
      " ['\\xe2\\x94\\x9c\\xe2\\x94\\x80\\xe2\\x94\\x80' 'papers']\n",
      " ['\\xe2\\x94\\x9c\\xe2\\x94\\x80\\xe2\\x94\\x80' 'src_tensorflow']], shape=(3, 2), dtype=string)\n",
      "0 tf.Tensor(\n",
      "[['\\xe2\\x94\\x9c\\xe2\\x94\\x80\\xe2\\x94\\x80' 'papers']\n",
      " ['\\xe2\\x94\\x9c\\xe2\\x94\\x80\\xe2\\x94\\x80' 'src_tensorflow']\n",
      " ['\\xe2\\x94\\x94\\xe2\\x94\\x80\\xe2\\x94\\x80' 'src_tf2']], shape=(3, 2), dtype=string)\n",
      "0 tf.Tensor(\n",
      "[['\\xe2\\x94\\x9c\\xe2\\x94\\x80\\xe2\\x94\\x80' 'src_tensorflow']\n",
      " ['\\xe2\\x94\\x94\\xe2\\x94\\x80\\xe2\\x94\\x80' 'src_tf2']\n",
      " ['-' '`src_tensorflow`']], shape=(3, 2), dtype=string)\n",
      "0 tf.Tensor(\n",
      "[['\\xe2\\x94\\x94\\xe2\\x94\\x80\\xe2\\x94\\x80' 'src_tf2']\n",
      " ['-' '`src_tensorflow`']\n",
      " ['-' '`src_tf2`']], shape=(3, 2), dtype=string)\n",
      "0 tf.Tensor(\n",
      "[['-' '`src_tensorflow`']\n",
      " ['-' '`src_tf2`']\n",
      " ['-' 'VESPCN']], shape=(3, 2), dtype=string)\n",
      "0 tf.Tensor(\n",
      "[['-' '`src_tf2`']\n",
      " ['-' 'VESPCN']\n",
      " ['-' 'Fully-featured']], shape=(3, 2), dtype=string)\n",
      "1 tf.Tensor(\n",
      "[['#' 'Super']\n",
      " ['*by' 'Akshay']\n",
      " ['Main' 'reference']], shape=(3, 2), dtype=string)\n",
      "1 tf.Tensor(\n",
      "[['*by' 'Akshay']\n",
      " ['Main' 'reference']\n",
      " ['\\xe2\\x94\\x9c\\xe2\\x94\\x80\\xe2\\x94\\x80' 'papers']], shape=(3, 2), dtype=string)\n",
      "1 tf.Tensor(\n",
      "[['Main' 'reference']\n",
      " ['\\xe2\\x94\\x9c\\xe2\\x94\\x80\\xe2\\x94\\x80' 'papers']\n",
      " ['\\xe2\\x94\\x9c\\xe2\\x94\\x80\\xe2\\x94\\x80' 'src_tensorflow']], shape=(3, 2), dtype=string)\n",
      "1 tf.Tensor(\n",
      "[['\\xe2\\x94\\x9c\\xe2\\x94\\x80\\xe2\\x94\\x80' 'papers']\n",
      " ['\\xe2\\x94\\x9c\\xe2\\x94\\x80\\xe2\\x94\\x80' 'src_tensorflow']\n",
      " ['\\xe2\\x94\\x94\\xe2\\x94\\x80\\xe2\\x94\\x80' 'src_tf2']], shape=(3, 2), dtype=string)\n",
      "1 tf.Tensor(\n",
      "[['\\xe2\\x94\\x9c\\xe2\\x94\\x80\\xe2\\x94\\x80' 'src_tensorflow']\n",
      " ['\\xe2\\x94\\x94\\xe2\\x94\\x80\\xe2\\x94\\x80' 'src_tf2']\n",
      " ['-' '`src_tensorflow`']], shape=(3, 2), dtype=string)\n",
      "1 tf.Tensor(\n",
      "[['\\xe2\\x94\\x94\\xe2\\x94\\x80\\xe2\\x94\\x80' 'src_tf2']\n",
      " ['-' '`src_tensorflow`']\n",
      " ['-' '`src_tf2`']], shape=(3, 2), dtype=string)\n",
      "1 tf.Tensor(\n",
      "[['-' '`src_tensorflow`']\n",
      " ['-' '`src_tf2`']\n",
      " ['-' 'VESPCN']], shape=(3, 2), dtype=string)\n",
      "1 tf.Tensor(\n",
      "[['-' '`src_tf2`']\n",
      " ['-' 'VESPCN']\n",
      " ['-' 'Fully-featured']], shape=(3, 2), dtype=string)\n",
      "2 tf.Tensor(\n",
      "[['#' 'Super']\n",
      " ['*by' 'Akshay']\n",
      " ['Main' 'reference']], shape=(3, 2), dtype=string)\n",
      "2 tf.Tensor(\n",
      "[['*by' 'Akshay']\n",
      " ['Main' 'reference']\n",
      " ['\\xe2\\x94\\x9c\\xe2\\x94\\x80\\xe2\\x94\\x80' 'papers']], shape=(3, 2), dtype=string)\n",
      "2 tf.Tensor(\n",
      "[['Main' 'reference']\n",
      " ['\\xe2\\x94\\x9c\\xe2\\x94\\x80\\xe2\\x94\\x80' 'papers']\n",
      " ['\\xe2\\x94\\x9c\\xe2\\x94\\x80\\xe2\\x94\\x80' 'src_tensorflow']], shape=(3, 2), dtype=string)\n",
      "2 tf.Tensor(\n",
      "[['\\xe2\\x94\\x9c\\xe2\\x94\\x80\\xe2\\x94\\x80' 'papers']\n",
      " ['\\xe2\\x94\\x9c\\xe2\\x94\\x80\\xe2\\x94\\x80' 'src_tensorflow']\n",
      " ['\\xe2\\x94\\x94\\xe2\\x94\\x80\\xe2\\x94\\x80' 'src_tf2']], shape=(3, 2), dtype=string)\n",
      "2 tf.Tensor(\n",
      "[['\\xe2\\x94\\x9c\\xe2\\x94\\x80\\xe2\\x94\\x80' 'src_tensorflow']\n",
      " ['\\xe2\\x94\\x94\\xe2\\x94\\x80\\xe2\\x94\\x80' 'src_tf2']\n",
      " ['-' '`src_tensorflow`']], shape=(3, 2), dtype=string)\n",
      "2 tf.Tensor(\n",
      "[['\\xe2\\x94\\x94\\xe2\\x94\\x80\\xe2\\x94\\x80' 'src_tf2']\n",
      " ['-' '`src_tensorflow`']\n",
      " ['-' '`src_tf2`']], shape=(3, 2), dtype=string)\n",
      "2 tf.Tensor(\n",
      "[['-' '`src_tensorflow`']\n",
      " ['-' '`src_tf2`']\n",
      " ['-' 'VESPCN']], shape=(3, 2), dtype=string)\n",
      "2 tf.Tensor(\n",
      "[['-' '`src_tf2`']\n",
      " ['-' 'VESPCN']\n",
      " ['-' 'Fully-featured']], shape=(3, 2), dtype=string)\n",
      "3 tf.Tensor(\n",
      "[['#' 'Super']\n",
      " ['*by' 'Akshay']\n",
      " ['Main' 'reference']], shape=(3, 2), dtype=string)\n",
      "3 tf.Tensor(\n",
      "[['*by' 'Akshay']\n",
      " ['Main' 'reference']\n",
      " ['\\xe2\\x94\\x9c\\xe2\\x94\\x80\\xe2\\x94\\x80' 'papers']], shape=(3, 2), dtype=string)\n",
      "3 tf.Tensor(\n",
      "[['Main' 'reference']\n",
      " ['\\xe2\\x94\\x9c\\xe2\\x94\\x80\\xe2\\x94\\x80' 'papers']\n",
      " ['\\xe2\\x94\\x9c\\xe2\\x94\\x80\\xe2\\x94\\x80' 'src_tensorflow']], shape=(3, 2), dtype=string)\n",
      "3 tf.Tensor(\n",
      "[['\\xe2\\x94\\x9c\\xe2\\x94\\x80\\xe2\\x94\\x80' 'papers']\n",
      " ['\\xe2\\x94\\x9c\\xe2\\x94\\x80\\xe2\\x94\\x80' 'src_tensorflow']\n",
      " ['\\xe2\\x94\\x94\\xe2\\x94\\x80\\xe2\\x94\\x80' 'src_tf2']], shape=(3, 2), dtype=string)\n",
      "3 tf.Tensor(\n",
      "[['\\xe2\\x94\\x9c\\xe2\\x94\\x80\\xe2\\x94\\x80' 'src_tensorflow']\n",
      " ['\\xe2\\x94\\x94\\xe2\\x94\\x80\\xe2\\x94\\x80' 'src_tf2']\n",
      " ['-' '`src_tensorflow`']], shape=(3, 2), dtype=string)\n",
      "3 tf.Tensor(\n",
      "[['\\xe2\\x94\\x94\\xe2\\x94\\x80\\xe2\\x94\\x80' 'src_tf2']\n",
      " ['-' '`src_tensorflow`']\n",
      " ['-' '`src_tf2`']], shape=(3, 2), dtype=string)\n",
      "3 tf.Tensor(\n",
      "[['-' '`src_tensorflow`']\n",
      " ['-' '`src_tf2`']\n",
      " ['-' 'VESPCN']], shape=(3, 2), dtype=string)\n",
      "3 tf.Tensor(\n",
      "[['-' '`src_tf2`']\n",
      " ['-' 'VESPCN']\n",
      " ['-' 'Fully-featured']], shape=(3, 2), dtype=string)\n",
      "4 tf.Tensor(\n",
      "[['#' 'Super']\n",
      " ['*by' 'Akshay']\n",
      " ['Main' 'reference']], shape=(3, 2), dtype=string)\n",
      "4 tf.Tensor(\n",
      "[['*by' 'Akshay']\n",
      " ['Main' 'reference']\n",
      " ['\\xe2\\x94\\x9c\\xe2\\x94\\x80\\xe2\\x94\\x80' 'papers']], shape=(3, 2), dtype=string)\n",
      "4 tf.Tensor(\n",
      "[['Main' 'reference']\n",
      " ['\\xe2\\x94\\x9c\\xe2\\x94\\x80\\xe2\\x94\\x80' 'papers']\n",
      " ['\\xe2\\x94\\x9c\\xe2\\x94\\x80\\xe2\\x94\\x80' 'src_tensorflow']], shape=(3, 2), dtype=string)\n",
      "4 tf.Tensor(\n",
      "[['\\xe2\\x94\\x9c\\xe2\\x94\\x80\\xe2\\x94\\x80' 'papers']\n",
      " ['\\xe2\\x94\\x9c\\xe2\\x94\\x80\\xe2\\x94\\x80' 'src_tensorflow']\n",
      " ['\\xe2\\x94\\x94\\xe2\\x94\\x80\\xe2\\x94\\x80' 'src_tf2']], shape=(3, 2), dtype=string)\n",
      "4 tf.Tensor(\n",
      "[['\\xe2\\x94\\x9c\\xe2\\x94\\x80\\xe2\\x94\\x80' 'src_tensorflow']\n",
      " ['\\xe2\\x94\\x94\\xe2\\x94\\x80\\xe2\\x94\\x80' 'src_tf2']\n",
      " ['-' '`src_tensorflow`']], shape=(3, 2), dtype=string)\n",
      "4 tf.Tensor(\n",
      "[['\\xe2\\x94\\x94\\xe2\\x94\\x80\\xe2\\x94\\x80' 'src_tf2']\n",
      " ['-' '`src_tensorflow`']\n",
      " ['-' '`src_tf2`']], shape=(3, 2), dtype=string)\n",
      "4 tf.Tensor(\n",
      "[['-' '`src_tensorflow`']\n",
      " ['-' '`src_tf2`']\n",
      " ['-' 'VESPCN']], shape=(3, 2), dtype=string)\n",
      "4 tf.Tensor(\n",
      "[['-' '`src_tf2`']\n",
      " ['-' 'VESPCN']\n",
      " ['-' 'Fully-featured']], shape=(3, 2), dtype=string)\n"
     ]
    }
   ],
   "source": [
    "for i in range(5):\n",
    "    for batch in dataset:\n",
    "        print i, batch"
   ]
  },
  {
   "cell_type": "code",
   "execution_count": null,
   "metadata": {},
   "outputs": [],
   "source": []
  },
  {
   "cell_type": "code",
   "execution_count": null,
   "metadata": {},
   "outputs": [],
   "source": []
  },
  {
   "cell_type": "code",
   "execution_count": null,
   "metadata": {},
   "outputs": [],
   "source": []
  },
  {
   "cell_type": "code",
   "execution_count": null,
   "metadata": {},
   "outputs": [],
   "source": []
  },
  {
   "cell_type": "code",
   "execution_count": null,
   "metadata": {},
   "outputs": [],
   "source": []
  },
  {
   "cell_type": "code",
   "execution_count": null,
   "metadata": {},
   "outputs": [],
   "source": []
  },
  {
   "cell_type": "code",
   "execution_count": null,
   "metadata": {},
   "outputs": [],
   "source": []
  },
  {
   "cell_type": "code",
   "execution_count": null,
   "metadata": {},
   "outputs": [],
   "source": []
  },
  {
   "cell_type": "code",
   "execution_count": null,
   "metadata": {},
   "outputs": [],
   "source": []
  },
  {
   "cell_type": "code",
   "execution_count": null,
   "metadata": {},
   "outputs": [],
   "source": []
  }
 ],
 "metadata": {
  "kernelspec": {
   "display_name": "Python 2",
   "language": "python",
   "name": "python2"
  },
  "language_info": {
   "codemirror_mode": {
    "name": "ipython",
    "version": 2
   },
   "file_extension": ".py",
   "mimetype": "text/x-python",
   "name": "python",
   "nbconvert_exporter": "python",
   "pygments_lexer": "ipython2",
   "version": "2.7.14"
  }
 },
 "nbformat": 4,
 "nbformat_minor": 2
}
